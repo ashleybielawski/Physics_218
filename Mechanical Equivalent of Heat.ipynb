{
 "cells": [
  {
   "cell_type": "markdown",
   "metadata": {},
   "source": [
    "Experimental Data"
   ]
  },
  {
   "cell_type": "code",
   "execution_count": 64,
   "metadata": {},
   "outputs": [
    {
     "name": "stdout",
     "output_type": "stream",
     "text": [
      "13.479999999999997\n"
     ]
    }
   ],
   "source": [
    "import numpy as np\n",
    "import math as math\n",
    "\n",
    "r = 0.0477/2 #m #radius of cylinder\n",
    "m = 6.451 #kg #mass of bucket\n",
    "m_Al = .2027 #kg\n",
    "\n",
    "Tempinitial = 18.85 #C\n",
    "Temproom = 24.0 #C\n",
    "Tempfinal = 32.33 #C\n",
    "D_Temp = Tempfinal - Tempinitial #C\n",
    "# at 270 it reached \n",
    "\n",
    "print(D_Temp)\n",
    "N = 247#number of turns\n",
    "C = 214 #J/calK\n"
   ]
  },
  {
   "cell_type": "markdown",
   "metadata": {},
   "source": [
    "Calculations"
   ]
  },
  {
   "cell_type": "code",
   "execution_count": 65,
   "metadata": {},
   "outputs": [
    {
     "name": "stdout",
     "output_type": "stream",
     "text": [
      "theta = 1551.9467708733578\n",
      "work = 2340.0132824964394\n",
      "Q = 584.7327439999999\n",
      "J = 4.001850942174088\n"
     ]
    }
   ],
   "source": [
    "import math as math\n",
    "pi = math.pi\n",
    "sin = math.sin\n",
    "\n",
    "def theta(N):\n",
    "    angle = 2*pi*N\n",
    "    return angle\n",
    "\n",
    "def heat(mass,C,delta_Temp):\n",
    "    Q = mass*C*delta_Temp\n",
    "    return Q\n",
    "\n",
    "def work(mass, radius, rotations):\n",
    "    w = 2*pi*9.8*mass*rotations*radius\n",
    "    return w\n",
    "\n",
    "theta = theta(N) #deg\n",
    "work = work(m, r, N) #J\n",
    "Q_Al = heat(m_Al, C, D_Temp) #J\n",
    "J = work/Q_Al\n",
    "\n",
    "print(\"theta =\", theta)\n",
    "print (\"work =\", work)\n",
    "print(\"Q =\", Q_Al)\n",
    "print (\"J =\", J)"
   ]
  },
  {
   "cell_type": "markdown",
   "metadata": {},
   "source": [
    "Error Calculations"
   ]
  },
  {
   "cell_type": "code",
   "execution_count": 59,
   "metadata": {},
   "outputs": [
    {
     "name": "stdout",
     "output_type": "stream",
     "text": [
      "err in work =  297.2998533986894\n",
      "err in Q = 39.3130687973149\n",
      "err in J = 0.1726692702838142\n"
     ]
    }
   ],
   "source": [
    "err_m = 0.0001 #kg\n",
    "err_r = 0.00005 #m\n",
    "err_mAl = 0.0001 #kg\n",
    "err_dT = 0.21 #C\n",
    "\n",
    "def rule4(errA,errB,A,B,a,b,Q):\n",
    "    errQ= Q* np.sqrt(((a*errA)/A)**2 +((b*errB)/B)**2)\n",
    "    return errQ\n",
    "\n",
    "error_W = rule4(err_m, err_r, m, r, 1, 1, work)\n",
    "error_Q = rule4(err_mAl, err_dT, m_Al, D_Temp, 1, 1, Q_Al)\n",
    "error_J = rule4(error_W, error_Q, work, Q_Al, 1, 1, J)\n",
    "\n",
    "print (\"err in work = \", error_W)\n",
    "print (\"err in Q =\", error_Q)\n",
    "print (\"err in J =\", error_J)"
   ]
  },
  {
   "cell_type": "code",
   "execution_count": null,
   "metadata": {},
   "outputs": [],
   "source": []
  }
 ],
 "metadata": {
  "kernelspec": {
   "display_name": "Python 3",
   "language": "python",
   "name": "python3"
  },
  "language_info": {
   "codemirror_mode": {
    "name": "ipython",
    "version": 3
   },
   "file_extension": ".py",
   "mimetype": "text/x-python",
   "name": "python",
   "nbconvert_exporter": "python",
   "pygments_lexer": "ipython3",
   "version": "3.7.1"
  }
 },
 "nbformat": 4,
 "nbformat_minor": 2
}
